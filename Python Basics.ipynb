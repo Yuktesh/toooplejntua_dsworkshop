{
 "cells": [
  {
   "cell_type": "markdown",
   "metadata": {},
   "source": [
    "# Variable"
   ]
  },
  {
   "cell_type": "code",
   "execution_count": 13,
   "metadata": {},
   "outputs": [
    {
     "name": "stdout",
     "output_type": "stream",
     "text": [
      "10\n",
      "<class 'int'>\n",
      "12.34\n",
      "<class 'float'>\n"
     ]
    }
   ],
   "source": [
    "#dynamic typing\n",
    "a=10\n",
    "print(a)\n",
    "print(type(a))\n",
    "a=12.34\n",
    "print(a)\n",
    "print(type(a))"
   ]
  },
  {
   "cell_type": "code",
   "execution_count": 14,
   "metadata": {},
   "outputs": [
    {
     "name": "stdout",
     "output_type": "stream",
     "text": [
      "100 200 300\n"
     ]
    }
   ],
   "source": [
    "x,y,z=100,200,300\n",
    "print(x,y,z)"
   ]
  },
  {
   "cell_type": "code",
   "execution_count": 15,
   "metadata": {},
   "outputs": [
    {
     "data": {
      "text/plain": [
       "140412943927984"
      ]
     },
     "execution_count": 15,
     "metadata": {},
     "output_type": "execute_result"
    }
   ],
   "source": [
    "id(a)"
   ]
  },
  {
   "cell_type": "code",
   "execution_count": 16,
   "metadata": {},
   "outputs": [
    {
     "data": {
      "text/plain": [
       "4313506016"
      ]
     },
     "execution_count": 16,
     "metadata": {},
     "output_type": "execute_result"
    }
   ],
   "source": [
    "id(x)"
   ]
  },
  {
   "cell_type": "code",
   "execution_count": 17,
   "metadata": {},
   "outputs": [
    {
     "data": {
      "text/plain": [
       "float"
      ]
     },
     "execution_count": 17,
     "metadata": {},
     "output_type": "execute_result"
    }
   ],
   "source": [
    "type(a)"
   ]
  },
  {
   "cell_type": "code",
   "execution_count": 18,
   "metadata": {},
   "outputs": [
    {
     "data": {
      "text/plain": [
       "int"
      ]
     },
     "execution_count": 18,
     "metadata": {},
     "output_type": "execute_result"
    }
   ],
   "source": [
    "type(z)"
   ]
  },
  {
   "cell_type": "markdown",
   "metadata": {},
   "source": [
    "\n",
    "# Data Types Example\n"
   ]
  },
  {
   "cell_type": "code",
   "execution_count": 19,
   "metadata": {},
   "outputs": [
    {
     "name": "stdout",
     "output_type": "stream",
     "text": [
      "10\n",
      "<class 'int'>\n"
     ]
    }
   ],
   "source": [
    "a=10\n",
    "print(a)\n",
    "print(type(a))"
   ]
  },
  {
   "cell_type": "code",
   "execution_count": 20,
   "metadata": {},
   "outputs": [
    {
     "name": "stdout",
     "output_type": "stream",
     "text": [
      "12.45 <class 'float'>\n"
     ]
    }
   ],
   "source": [
    "b=12.45\n",
    "print(b,type(b))"
   ]
  },
  {
   "cell_type": "code",
   "execution_count": 21,
   "metadata": {},
   "outputs": [],
   "source": [
    "c=3+4j"
   ]
  },
  {
   "cell_type": "code",
   "execution_count": 22,
   "metadata": {},
   "outputs": [
    {
     "name": "stdout",
     "output_type": "stream",
     "text": [
      "(3+4j) <class 'complex'>\n"
     ]
    }
   ],
   "source": [
    "print(c,type(c))"
   ]
  },
  {
   "cell_type": "code",
   "execution_count": 23,
   "metadata": {},
   "outputs": [
    {
     "name": "stdout",
     "output_type": "stream",
     "text": [
      "True <class 'bool'>\n"
     ]
    }
   ],
   "source": [
    "d=True\n",
    "print(d,type(d))"
   ]
  },
  {
   "cell_type": "code",
   "execution_count": 24,
   "metadata": {},
   "outputs": [
    {
     "name": "stdout",
     "output_type": "stream",
     "text": [
      "Python\n",
      "<class 'str'>\n"
     ]
    }
   ],
   "source": [
    "s=\"Python\"\n",
    "print(s)\n",
    "print(type(s))"
   ]
  },
  {
   "cell_type": "code",
   "execution_count": 32,
   "metadata": {},
   "outputs": [
    {
     "name": "stdout",
     "output_type": "stream",
     "text": [
      "[10, 20, 30, 40.3]\n",
      "<class 'list'>\n"
     ]
    }
   ],
   "source": [
    "lst=[10,20,30,40.3]\n",
    "print(lst)\n",
    "print(type(lst))"
   ]
  },
  {
   "cell_type": "code",
   "execution_count": 26,
   "metadata": {},
   "outputs": [
    {
     "name": "stdout",
     "output_type": "stream",
     "text": [
      "(1, 2, 3, 4, 5)\n",
      "<class 'tuple'>\n"
     ]
    }
   ],
   "source": [
    "tpl = (1,2,3,4,5)\n",
    "print(tpl)\n",
    "print(type(tpl))\n"
   ]
  },
  {
   "cell_type": "code",
   "execution_count": 27,
   "metadata": {},
   "outputs": [],
   "source": [
    "s1={1,2,3,4,5,6,7}"
   ]
  },
  {
   "cell_type": "code",
   "execution_count": 28,
   "metadata": {},
   "outputs": [
    {
     "name": "stdout",
     "output_type": "stream",
     "text": [
      "{1, 2, 3, 4, 5, 6, 7}\n",
      "<class 'set'>\n"
     ]
    }
   ],
   "source": [
    "print(s1)\n",
    "print(type(s1))"
   ]
  },
  {
   "cell_type": "code",
   "execution_count": 29,
   "metadata": {},
   "outputs": [
    {
     "name": "stdout",
     "output_type": "stream",
     "text": [
      "{1, 2, 3, 4, 5, 6, 7}\n"
     ]
    }
   ],
   "source": [
    "print(s1)"
   ]
  },
  {
   "cell_type": "code",
   "execution_count": 33,
   "metadata": {},
   "outputs": [],
   "source": [
    "d1 = {1:\"one\",2:\"two\",3:\"three\"}"
   ]
  },
  {
   "cell_type": "code",
   "execution_count": 34,
   "metadata": {},
   "outputs": [
    {
     "name": "stdout",
     "output_type": "stream",
     "text": [
      "{1: 'one', 2: 'two', 3: 'three'} <class 'dict'>\n"
     ]
    }
   ],
   "source": [
    "print(d1,type(d1))"
   ]
  },
  {
   "cell_type": "markdown",
   "metadata": {},
   "source": [
    "# Operators in Python"
   ]
  },
  {
   "cell_type": "code",
   "execution_count": 35,
   "metadata": {},
   "outputs": [
    {
     "name": "stdout",
     "output_type": "stream",
     "text": [
      "18\n",
      "8\n",
      "65\n",
      "2.6\n",
      "3\n",
      "2\n",
      "371293\n"
     ]
    }
   ],
   "source": [
    "#Arithmetic Operators\n",
    "a,b=13,5\n",
    "print(a+b)\n",
    "print(a-b)\n",
    "print(a*b)\n",
    "print(a/b) #gives quotient, when reminder is 0\n",
    "print(a%b) #gives reminder before putting dot at quotient\n",
    "print(a//b)#floor division\n",
    "print(13**5) #exponential operator"
   ]
  },
  {
   "cell_type": "code",
   "execution_count": null,
   "metadata": {},
   "outputs": [],
   "source": [
    "#Assignment Operators\n",
    "a=10\n",
    "a+=1 #a=a+1 \n",
    "print(a)\n",
    "a=10\n",
    "a-=1 #a=a-1\n",
    "print(a)\n",
    "a=10\n",
    "a*=2 #a=a*2\n",
    "print(a)\n",
    "a=10\n",
    "a/=3 #a=a/3\n",
    "print(a)\n",
    "a=10\n",
    "a%=3 #a=a%3\n",
    "print(a)\n",
    "a=10\n",
    "a//=3\n",
    "print(a)\n",
    "a=10\n",
    "a**=3\n",
    "print(a)\n"
   ]
  },
  {
   "cell_type": "code",
   "execution_count": 36,
   "metadata": {},
   "outputs": [
    {
     "name": "stdout",
     "output_type": "stream",
     "text": [
      "True\n",
      "False\n",
      "False\n",
      "True\n",
      "True\n",
      "False\n"
     ]
    }
   ],
   "source": [
    "#Relational Operators\n",
    "x=100\n",
    "y=50\n",
    "print(x>y)\n",
    "print(x<y)\n",
    "print(x==y)\n",
    "print(x!=y)\n",
    "print(x>=y)\n",
    "print(x<=y)"
   ]
  },
  {
   "cell_type": "code",
   "execution_count": 37,
   "metadata": {},
   "outputs": [
    {
     "name": "stdout",
     "output_type": "stream",
     "text": [
      "False\n",
      "True\n",
      "False\n",
      "True\n"
     ]
    }
   ],
   "source": [
    "#Logical Operators\n",
    "x,y=5,10    #True, True\n",
    "print(x>y and x<2)\n",
    "print(x>y or x<y)\n",
    "print(not x)\n",
    "c=0 #False\n",
    "print(not c)"
   ]
  },
  {
   "cell_type": "code",
   "execution_count": 38,
   "metadata": {},
   "outputs": [
    {
     "name": "stdout",
     "output_type": "stream",
     "text": [
      "0\n",
      "14\n",
      "14\n",
      "-11\n",
      "40\n",
      "2\n"
     ]
    }
   ],
   "source": [
    "#Bitwise Operators\n",
    "x=10\n",
    "y=4\n",
    "print(x&y)\n",
    "print(x|y)\n",
    "print(x^y)\n",
    "print(~x)\n",
    "print(x<<2)\n",
    "print(x>>2)"
   ]
  },
  {
   "cell_type": "code",
   "execution_count": 39,
   "metadata": {},
   "outputs": [
    {
     "name": "stdout",
     "output_type": "stream",
     "text": [
      "True\n",
      "False\n",
      "False\n",
      "True\n"
     ]
    }
   ],
   "source": [
    "#Special Operators\n",
    "#membership operators\n",
    "s=\"Python\"\n",
    "print(\"P\" in s)#T\n",
    "print(\"Z\" in s)#F\n",
    "print(\"y\" not in s) #F\n",
    "print(\"N\" not in s)#T"
   ]
  },
  {
   "cell_type": "code",
   "execution_count": 40,
   "metadata": {},
   "outputs": [
    {
     "name": "stdout",
     "output_type": "stream",
     "text": [
      "100 4313506016\n",
      "200 4313509216\n"
     ]
    }
   ],
   "source": [
    "#Identity operators\n",
    "a=100\n",
    "b=200\n",
    "print(a,id(a))\n",
    "print(b,id(b))"
   ]
  },
  {
   "cell_type": "code",
   "execution_count": 41,
   "metadata": {},
   "outputs": [
    {
     "name": "stdout",
     "output_type": "stream",
     "text": [
      "False\n"
     ]
    }
   ],
   "source": [
    "print(a==b)#values gets compared"
   ]
  },
  {
   "cell_type": "code",
   "execution_count": 42,
   "metadata": {},
   "outputs": [
    {
     "name": "stdout",
     "output_type": "stream",
     "text": [
      "False\n"
     ]
    }
   ],
   "source": [
    "print(a is b) # here address gets compared"
   ]
  },
  {
   "cell_type": "code",
   "execution_count": 43,
   "metadata": {},
   "outputs": [
    {
     "name": "stdout",
     "output_type": "stream",
     "text": [
      "True\n"
     ]
    }
   ],
   "source": [
    "print( a is not b)"
   ]
  },
  {
   "cell_type": "code",
   "execution_count": 44,
   "metadata": {},
   "outputs": [
    {
     "name": "stdout",
     "output_type": "stream",
     "text": [
      "4313509216\n",
      "True\n"
     ]
    }
   ],
   "source": [
    "c=200\n",
    "print(id(c))\n",
    "print(c is b)"
   ]
  },
  {
   "cell_type": "code",
   "execution_count": 45,
   "metadata": {},
   "outputs": [
    {
     "name": "stdout",
     "output_type": "stream",
     "text": [
      "hi\n",
      "hi\n"
     ]
    }
   ],
   "source": [
    "#Reading input from Keyboard in Python\n",
    "s=input()\n",
    "print(s)"
   ]
  },
  {
   "cell_type": "code",
   "execution_count": 47,
   "metadata": {},
   "outputs": [
    {
     "name": "stdout",
     "output_type": "stream",
     "text": [
      "Enter a string:hello\n",
      "You entered string is: hello\n"
     ]
    }
   ],
   "source": [
    "s1=input(\"Enter a string:\")\n",
    "print(\"You entered string is:\",s1)"
   ]
  },
  {
   "cell_type": "code",
   "execution_count": 48,
   "metadata": {},
   "outputs": [
    {
     "name": "stdout",
     "output_type": "stream",
     "text": [
      "Enter n1:100\n",
      "Enter n2:200\n",
      "100200\n"
     ]
    }
   ],
   "source": [
    "s2=input(\"Enter n1:\")\n",
    "s3=input(\"Enter n2:\")\n",
    "print(s2+s3)"
   ]
  },
  {
   "cell_type": "code",
   "execution_count": 49,
   "metadata": {},
   "outputs": [
    {
     "name": "stdout",
     "output_type": "stream",
     "text": [
      "Enter num1:100\n",
      "Enter num2:200\n",
      "300\n"
     ]
    }
   ],
   "source": [
    "n1=int(input(\"Enter num1:\"))\n",
    "n2=int(input(\"Enter num2:\"))\n",
    "print(n1+n2)"
   ]
  },
  {
   "cell_type": "markdown",
   "metadata": {},
   "source": [
    "# Control Statements"
   ]
  },
  {
   "cell_type": "code",
   "execution_count": 52,
   "metadata": {},
   "outputs": [
    {
     "name": "stdout",
     "output_type": "stream",
     "text": [
      "Enter a number:100\n",
      "Thanks for entering my fav num\n",
      "100\n"
     ]
    }
   ],
   "source": [
    "#if example\n",
    "n=int(input(\"Enter a number:\"))\n",
    "if n==100:\n",
    "    print(\"Thanks for entering my fav num\")\n",
    "print(n)"
   ]
  },
  {
   "cell_type": "code",
   "execution_count": 54,
   "metadata": {},
   "outputs": [
    {
     "name": "stdout",
     "output_type": "stream",
     "text": [
      "Enter a number:-3\n",
      "Negative\n",
      "In else block\n",
      "In program block\n"
     ]
    }
   ],
   "source": [
    "#if else example\n",
    "#positive or negative\n",
    "n=int(input(\"Enter a number:\"))\n",
    "if n>0:\n",
    "    print(\"Positive\")\n",
    "    print(\"In if block\")\n",
    "else:\n",
    "    print(\"Negative\")\n",
    "    print(\"In else block\")\n",
    "print(\"In program block\")\n",
    "    "
   ]
  },
  {
   "cell_type": "code",
   "execution_count": 5,
   "metadata": {},
   "outputs": [
    {
     "name": "stdout",
     "output_type": "stream",
     "text": [
      "Enter a number:0\n",
      "Zero\n"
     ]
    }
   ],
   "source": [
    "#if..elif..else example\n",
    "n=int(input(\"Enter a number:\"))\n",
    "if n>0:\n",
    "    print(\"Positive\")\n",
    "elif n<0:\n",
    "    print(\"Negative\")\n",
    "else:\n",
    "    print(\"Zero\")"
   ]
  },
  {
   "cell_type": "code",
   "execution_count": 55,
   "metadata": {},
   "outputs": [
    {
     "name": "stdout",
     "output_type": "stream",
     "text": [
      "0\n",
      "1\n",
      "2\n",
      "3\n",
      "End\n"
     ]
    }
   ],
   "source": [
    "#while\n",
    "i=0\n",
    "while i<=3:\n",
    "    \n",
    "    print(i)\n",
    "    i+=1 #manual increment\n",
    "print(\"End\")"
   ]
  },
  {
   "cell_type": "code",
   "execution_count": null,
   "metadata": {},
   "outputs": [],
   "source": [
    "#while ex2 #11-20\n",
    "m=int(input(\"Enter start num:\"))\n",
    "n=int(input(\"Enter end num:\"))\n",
    "while m<=n:\n",
    "    print(m,end=\" \")\n",
    "    m+=1\n",
    "    "
   ]
  },
  {
   "cell_type": "code",
   "execution_count": 8,
   "metadata": {},
   "outputs": [
    {
     "name": "stdout",
     "output_type": "stream",
     "text": [
      "P\n",
      "y\n",
      "t\n",
      "h\n",
      "o\n",
      "n\n"
     ]
    }
   ],
   "source": [
    "#For ex1\n",
    "s=\"Python\"\n",
    "for iterableobject in s:\n",
    "    print(iterableobject)"
   ]
  },
  {
   "cell_type": "code",
   "execution_count": 7,
   "metadata": {},
   "outputs": [
    {
     "name": "stdout",
     "output_type": "stream",
     "text": [
      "10\n",
      "20\n",
      "30\n",
      "40\n",
      "In else loop\n"
     ]
    }
   ],
   "source": [
    "lst=[10,20,30,40]\n",
    "for eachelement in lst:\n",
    "    print(eachelement)\n",
    "    \n",
    "else:\n",
    "    print(\"In else loop\")"
   ]
  },
  {
   "cell_type": "code",
   "execution_count": null,
   "metadata": {},
   "outputs": [],
   "source": [
    "#search for given element from the list\n",
    "lst=[10,17,67,45,33,90,24,81]\n",
    "n=int(input(\"Enter your search element:\"))\n",
    "for i in lst:\n",
    "    if n==i:\n",
    "        print(\"Element found:\")\n",
    "        break\n",
    "    \n",
    "else:\n",
    "    print(\"Element not found\")"
   ]
  },
  {
   "cell_type": "code",
   "execution_count": null,
   "metadata": {},
   "outputs": [],
   "source": [
    "#Continue\n",
    "i=0\n",
    "while i<=5:\n",
    "    i+=1\n",
    "    if i==3:\n",
    "        continue\n",
    "    print(\"Welcome\",i)\n"
   ]
  },
  {
   "cell_type": "code",
   "execution_count": null,
   "metadata": {},
   "outputs": [],
   "source": [
    "#Pass - does nothing #oddnumbers\n",
    "lst=[1,2,3,4,5,6,7,8]\n",
    "for i in lst:\n",
    "    if i%2==0:\n",
    "        pass\n",
    "    else:\n",
    "        print(i)"
   ]
  },
  {
   "cell_type": "markdown",
   "metadata": {},
   "source": [
    "# Functions in Python"
   ]
  },
  {
   "cell_type": "code",
   "execution_count": 9,
   "metadata": {},
   "outputs": [],
   "source": [
    "def fun():\n",
    "    print(\"Hello welcome to functions\")\n"
   ]
  },
  {
   "cell_type": "code",
   "execution_count": 10,
   "metadata": {},
   "outputs": [
    {
     "name": "stdout",
     "output_type": "stream",
     "text": [
      "Hello welcome to functions\n"
     ]
    }
   ],
   "source": [
    "fun()"
   ]
  },
  {
   "cell_type": "code",
   "execution_count": null,
   "metadata": {},
   "outputs": [],
   "source": [
    "def fun1():\n",
    "    return \"Hello to Functions again\"\n"
   ]
  },
  {
   "cell_type": "code",
   "execution_count": null,
   "metadata": {},
   "outputs": [],
   "source": [
    "result = fun1()"
   ]
  },
  {
   "cell_type": "code",
   "execution_count": null,
   "metadata": {},
   "outputs": [],
   "source": [
    "print(result)"
   ]
  },
  {
   "cell_type": "code",
   "execution_count": null,
   "metadata": {},
   "outputs": [],
   "source": [
    "def fun2(a,b): #formal parameters - Defininig\n",
    "    c=a+b\n",
    "    print(c)\n",
    "    \n",
    "\n",
    "x=int(input(\"Enter n1:\"))\n",
    "y=int(input(\"Enter n2:\"))\n",
    "\n",
    "fun2(x,y)#actual parameters - Calling"
   ]
  },
  {
   "cell_type": "code",
   "execution_count": null,
   "metadata": {},
   "outputs": [],
   "source": [
    "def fun3(x,y):\n",
    "    z=x-y\n",
    "    return z\n",
    "res = fun3(200,100)\n",
    "print(res)"
   ]
  },
  {
   "cell_type": "code",
   "execution_count": null,
   "metadata": {},
   "outputs": [],
   "source": [
    "#add 2 given numbers using functions\n",
    "\n",
    "def add(a,b):\n",
    "    c=a+b\n",
    "    return c\n",
    "\n",
    "n1=int(input(\"Enter n1:\"))\n",
    "n2=int(input(\"Enter n2:\"))\n",
    "\n",
    "result = add(n1,n2)\n",
    "print(\"Sum of given numbers is:\",result)\n"
   ]
  },
  {
   "cell_type": "markdown",
   "metadata": {},
   "source": [
    "# OOPS in Python"
   ]
  },
  {
   "cell_type": "code",
   "execution_count": 56,
   "metadata": {},
   "outputs": [],
   "source": [
    "class Sample:\n",
    "    \n",
    "    def m1(self):\n",
    "        print(\"In m1 of Sample\")\n",
    "        print(self)\n",
    "    def m2(self):\n",
    "        print(\"In m2 of Sample\")\n"
   ]
  },
  {
   "cell_type": "code",
   "execution_count": 57,
   "metadata": {},
   "outputs": [
    {
     "name": "stdout",
     "output_type": "stream",
     "text": [
      "<__main__.Sample object at 0x7fb46f998790>\n",
      "In m1 of Sample\n",
      "<__main__.Sample object at 0x7fb46f998790>\n"
     ]
    }
   ],
   "source": [
    "s1 = Sample()\n",
    "print(s1)\n",
    "\n",
    "s1.m1()"
   ]
  },
  {
   "cell_type": "code",
   "execution_count": 58,
   "metadata": {},
   "outputs": [
    {
     "name": "stdout",
     "output_type": "stream",
     "text": [
      "In m2 of Sample\n"
     ]
    }
   ],
   "source": [
    "s1.m2()"
   ]
  },
  {
   "cell_type": "code",
   "execution_count": null,
   "metadata": {},
   "outputs": [],
   "source": [
    "#static var ex1\n",
    "class X:\n",
    "    a=100\n",
    "    b=200\n",
    "    def m1(self):\n",
    "        print(X.a)\n",
    "        print(X.b)\n",
    "#outside of class\n",
    "x1=X()\n",
    "x1.m1()\n",
    "print(X.a)\n",
    "print(x1.b)"
   ]
  },
  {
   "cell_type": "code",
   "execution_count": null,
   "metadata": {},
   "outputs": [],
   "source": [
    "#Static var ex2 #class notice board\n",
    "class X:\n",
    "    \n",
    "    a=1000\n",
    "    b=2000\n",
    "    \n",
    "    def modify(self):\n",
    "        X.a=X.a+100\n",
    "        X.b=X.b-100\n",
    "        \n",
    "    def display(self):\n",
    "        print(X.a,X.b)\n",
    "        \n",
    "x1=X()\n",
    "x1.display()\n",
    "x1.modify()\n",
    "x1.display()\n",
    "print(\"--------------\")\n",
    "x2=X()\n",
    "x2.display()\n",
    "x2.modify()\n",
    "\n",
    "x3=X()\n",
    "x3.display()\n",
    "    \n",
    "#Static Variables are helpful in storing common data to all objects"
   ]
  },
  {
   "cell_type": "code",
   "execution_count": null,
   "metadata": {},
   "outputs": [],
   "source": [
    "#Non static Var ex1 - notebook\n",
    "class X:\n",
    "    def insert(self):\n",
    "        self.a=100\n",
    "        self.b=200\n",
    "    \n",
    "    def display(self):\n",
    "        print(self.a,self.b)\n",
    "\n",
    "x1=X()\n",
    "x1.insert()\n",
    "x1.display()\n",
    "\n",
    "x2=X()\n",
    "x2.insert()\n",
    "x2.display()\n",
    "\n",
    "\n",
    "\n",
    "\n",
    "        "
   ]
  },
  {
   "cell_type": "code",
   "execution_count": null,
   "metadata": {},
   "outputs": [],
   "source": [
    "#Non static Var ex2\n",
    "class X:\n",
    "    def insert(self):\n",
    "        self.a=1000\n",
    "        self.b=2000\n",
    "    \n",
    "    def modify(self):\n",
    "        self.a+=100\n",
    "        self.b-=100\n",
    "    \n",
    "    def display(self):\n",
    "        print(self.a,self.b)\n",
    "\n",
    "x1=X()\n",
    "x1.insert()\n",
    "\n",
    "x1.display()\n",
    "x1.modify()\n",
    "x1.display()\n",
    "print(\"+------+\")\n",
    "x2=X()\n",
    "#x2.display()\n",
    "x2.insert()\n",
    "x2.display()\n",
    "#Non static variables helps in storing object specific data\"\"\""
   ]
  },
  {
   "cell_type": "code",
   "execution_count": null,
   "metadata": {},
   "outputs": [],
   "source": [
    "#Object specific data to store \n",
    "class X:\n",
    "    def insert(self,a,b):\n",
    "        self.a=a\n",
    "        self.b=b\n",
    "    def display(self):\n",
    "        print(self.a)\n",
    "        print(self.b)\n",
    "        \n",
    "x1=X()\n",
    "x1.insert(1111,2222)\n",
    "x1.display()\n",
    "\n",
    "x2=X()\n",
    "x2.insert(888,999)\n",
    "x2.display()"
   ]
  },
  {
   "cell_type": "code",
   "execution_count": null,
   "metadata": {},
   "outputs": [],
   "source": [
    "#Constructors ex1\n",
    "class X:\n",
    "    def __init__(self):\n",
    "        print(\"In constructor of X\")\n",
    "\n",
    "x1=X()\n",
    "\n"
   ]
  },
  {
   "cell_type": "code",
   "execution_count": null,
   "metadata": {},
   "outputs": [],
   "source": [
    "#Constructor ex2\n",
    "class X:\n",
    "    def __init__(self,a,b):\n",
    "        self.a=a\n",
    "        self.b=b\n",
    "    def display(self):\n",
    "        print(self.a)\n",
    "        print(self.b)\n",
    "        \n",
    "x1=X(1000,2000)\n",
    "\n",
    "x1.display()\n",
    "print(\"========\")\n",
    "x2=X(100,200)\n",
    "x2.display()\n",
    "print(\"========\")\n",
    "x3=X(10,20)\n",
    "x3.display()\n"
   ]
  },
  {
   "cell_type": "code",
   "execution_count": null,
   "metadata": {},
   "outputs": [],
   "source": [
    "#Destructors ex1\n",
    "class X:\n",
    "    def __init__(self):\n",
    "        print(\"In constructor of X\")\n",
    "    def m1(self):\n",
    "        print(\"In m1 of X\")\n",
    "    def __del__(self):\n",
    "        print(\"In destructor of X\")\n",
    "    \n",
    "x1=X() #RVC =1\n",
    "\n",
    "\n",
    "x1.m1()\n",
    "\n",
    "print(x1)\n",
    "x2=x1  #RVC = 2\n",
    "print(x2)\n",
    "#RVC is 0 for any object, then only interpreter can delete that object from the memory\n",
    "del x2 #RVC = 1\n",
    "del x1  #RVC = 0\n"
   ]
  },
  {
   "cell_type": "code",
   "execution_count": null,
   "metadata": {},
   "outputs": [],
   "source": [
    "#Destructors ex2\n",
    "class X:\n",
    "    def __init__(self):\n",
    "        print(\"In constructor of X\")\n",
    "    def m1(self):\n",
    "        print(\"In m1 of X\")\n",
    "    def __del__(self):\n",
    "        print(\"In Destructor of X\")\n",
    "    \n",
    "x1=X()\n",
    "x2=X()\n",
    "x1.m1()\n",
    "x2.m1()\n",
    "del x2\n",
    "del x1"
   ]
  },
  {
   "cell_type": "code",
   "execution_count": null,
   "metadata": {},
   "outputs": [],
   "source": [
    "#Inheritance ex1\n",
    "class X:\n",
    "    def m1(self):\n",
    "        print(\"In m1 of X\")\n",
    "\n",
    "class Y:\n",
    "    def m2(self):\n",
    "        print(\"In m2 of Y\")\n",
    "        \n",
    "x1=X()\n",
    "x1.m1()\n",
    "\n",
    "y1=Y()\n",
    "y1.m2()\n",
    "#y1.m1() - not possible"
   ]
  },
  {
   "cell_type": "code",
   "execution_count": null,
   "metadata": {},
   "outputs": [],
   "source": [
    "#Inheritance - Extending 1 class properties into another class\n",
    "#Inheritance ex2\n",
    "#Parent\n",
    "class X:\n",
    "    def m1(self):\n",
    "        print(\"In m1 of X\")\n",
    "\n",
    "#child\n",
    "class Y(X):\n",
    "    def m2(self):\n",
    "        print(\"In m2 of Y\")\n",
    "        \n",
    "y1=Y()\n",
    "y1.m2()\n",
    "\n",
    "y1.m1()"
   ]
  },
  {
   "cell_type": "markdown",
   "metadata": {},
   "source": [
    "# Python Data Structures"
   ]
  },
  {
   "cell_type": "code",
   "execution_count": null,
   "metadata": {},
   "outputs": [],
   "source": [
    "#Collections\n",
    "#List ex1\n",
    "#empty list\n",
    "lst = []\n",
    "print(lst)\n",
    "print(type(lst))\n",
    "\n",
    "#Hetero\n",
    "lst1=[10,20.5,\"Python\",True]\n",
    "print(lst1)\n",
    "\n",
    "#duplicates\n",
    "lst2 = [10,20,30,30,40,20,50]\n",
    "print(lst2)\n",
    "\n",
    "#Insertion order is preserved\n",
    "print(lst1[0])\n",
    "print(\"------\")\n",
    "\n",
    "#Mutable\n",
    "lst=[10,20,30]\n",
    "print(lst, id(lst))\n",
    "lst.append(1000)\n",
    "print(lst, id(lst))\n",
    "\n",
    "#modifying elements is possible\n",
    "lst[0]=1111\n",
    "print(lst)\n",
    "\n",
    "#slicing is possible\n",
    "lst=[10,20,30,40,50]\n",
    "print(lst[0:3]) #lst[startindex:end+1 index]\n",
    "\n"
   ]
  },
  {
   "cell_type": "code",
   "execution_count": null,
   "metadata": {},
   "outputs": [],
   "source": [
    "#List Methods\n",
    "#append() – Add single element to the list\n",
    "x = [10,20,30,40,50,60]\n",
    "print(x)\n",
    "x.append(100)\n",
    "print(x)\n",
    "\n",
    "#insert() – Insert elements to the list\n",
    "x.insert(3,80)\n",
    "print(x)\n",
    "\n",
    "#copy() – Returns shallow copy of list\n",
    "y = x.copy()\n",
    "print(y)\n",
    "\n",
    "#index() – returns index value of an element of list\n",
    "print(x.index(50))\n",
    "\n",
    "#count() – returns occurrences of element in a list\n",
    "print(x.count(10))\n",
    "\n",
    "#remove() – removes elements from the list\n",
    "x.remove(40)\n",
    "\n",
    "#pop() – Removes element of given index\n",
    "\n",
    "x.pop(4)\n",
    "print(x)\n",
    "\n",
    "#extend() – Add elements of a list to another list\n",
    "z=[100,200,300]\n",
    "x.extend(z)\n",
    "print(x)\n",
    "\n",
    "#reverse() – Reverses a list\n",
    "\n",
    "x.reverse()\n",
    "print(x)\n",
    "\n",
    "#sorts() – Elements of a list\n",
    "\n",
    "x.sort()\n",
    "print(x)\n",
    "x.sort(reverse=True)\n",
    "print(x)\n",
    "\n",
    "#clear() – Removes all elements from the list\n",
    "x.clear()\n",
    "print(x)"
   ]
  },
  {
   "cell_type": "code",
   "execution_count": null,
   "metadata": {},
   "outputs": [],
   "source": [
    "#immutable (Cannot be modifiable in the same address) - All fundamental data types + tuple \n",
    "a=100\n",
    "print(a,id(a))\n",
    "a=102\n",
    "print(a,id(a))\n",
    "\n",
    "#mutable(Can be modifiable in the same address) - list,set,dict\n",
    "lst=[10,20,30]\n",
    "print(lst,id(lst))\n",
    "lst.append(1000)\n",
    "print(lst,id(lst))\n",
    "\n"
   ]
  },
  {
   "cell_type": "code",
   "execution_count": null,
   "metadata": {},
   "outputs": [],
   "source": [
    "#Tuple ex1\n",
    "x=()\n",
    "print(x)\n",
    "print(type(x))\n",
    "x=(10,11,12.3,True,\"Data\")\n",
    "print(x)\n",
    "print(x[0])\n",
    "print(x[0:3])"
   ]
  },
  {
   "cell_type": "code",
   "execution_count": null,
   "metadata": {},
   "outputs": [],
   "source": [
    "#Tuple methods\n",
    "#Tuple is immutable. We cannot change elements of tuple once it is assigned.\n",
    "\n",
    "#count() – returns the occurrence of elements of list\n",
    "x=(10,20,30,40)\n",
    "print(x.count(10))\n",
    "\n",
    "#index() - returns index of the element\n",
    "print(x.index(40))"
   ]
  },
  {
   "cell_type": "code",
   "execution_count": null,
   "metadata": {},
   "outputs": [],
   "source": [
    "#set ex1\n",
    "x={10,20,30,40,50}\n",
    "print(x)\n",
    "print(type(x))\n",
    "print(id(x))\n",
    "#duplicates\n",
    "x1={10,20,20,30,30,40,50,60,70}\n",
    "print(x1)\n",
    "#print(x1[0]) - not preserved, therefore no indexing\n",
    "\n",
    "#set is mutable\n",
    "x.add(1000)\n",
    "print(id(x))\n",
    "\n",
    "#set elements must be immutable\n",
    "#s1={1,2,[1,2],3} #error\n",
    "\n",
    "\n"
   ]
  },
  {
   "cell_type": "code",
   "execution_count": null,
   "metadata": {},
   "outputs": [],
   "source": [
    "#dictionary ex1\n",
    "d1={}\n",
    "print(d1)\n",
    "print(type(d1))\n",
    "d1={1:\"one\",2:\"two\",3:\"three\"}\n",
    "print(d1)\n",
    "#hetero\n",
    "d2={1:1,2.2:\"hello\",\"python\":\"language\"}\n",
    "print(d2)\n",
    "#duplicates\n",
    "d3={10:10,10:\"ten\"}\n",
    "print(d3)\n",
    "#insertion order preserved\n",
    "d4={\"sub1\":89,\"sub2\":92,\"sub3\":67}\n",
    "print(d4)\n",
    "print(d4[\"sub1\"])"
   ]
  },
  {
   "cell_type": "code",
   "execution_count": null,
   "metadata": {},
   "outputs": [],
   "source": [
    "#Dictionary Functions\n",
    "#dict() – Creates empty dictionary\n",
    "\n",
    "d1 = dict()\n",
    "print(d1)\n",
    "#len() – Returns the number of items in the dictionary \n",
    "print(len(d1))\n",
    "\n",
    "#get() – To get the value associated with key\n",
    "d1 = {\"Python\":90,\"Java\":80,\".Net\":70}\n",
    "print(d1.get(\"Python\"))\n",
    "\n",
    "\n",
    "#Keys() – It returns all keys associated with dictionary\n",
    "#values() – It returns all values associated with dictionary\n",
    "#Items() – It returns list of tuples representing key value pairs\n",
    "\n",
    "print(d1.keys())\n",
    "print(d1.values())\n",
    "print(d1.items())\n",
    "\n",
    "#•\tpop() – It removes the entry associated with the specified key and return the corresponding value\n",
    "d1.pop(\"Python\")\n",
    "print(d1)\n",
    "\n",
    "#popitem() – It removes last item(k-v) from the dictionary and returns it\n",
    "x = d1.popitem()\n",
    "print(x)\n",
    "print(d1)\n",
    "\n",
    "#Copy() – Creates exact duplicate dictionary.\n",
    "d2=d1.copy()\n",
    "print(d2)\n",
    "\n",
    "#clear() – To remove all items from the dictionary\n",
    "d1.clear()\n",
    "print(d1)"
   ]
  },
  {
   "cell_type": "code",
   "execution_count": null,
   "metadata": {},
   "outputs": [],
   "source": [
    "\n",
    "\n"
   ]
  }
 ],
 "metadata": {
  "kernelspec": {
   "display_name": "Python 3",
   "language": "python",
   "name": "python3"
  },
  "language_info": {
   "codemirror_mode": {
    "name": "ipython",
    "version": 3
   },
   "file_extension": ".py",
   "mimetype": "text/x-python",
   "name": "python",
   "nbconvert_exporter": "python",
   "pygments_lexer": "ipython3",
   "version": "3.7.6"
  }
 },
 "nbformat": 4,
 "nbformat_minor": 4
}
